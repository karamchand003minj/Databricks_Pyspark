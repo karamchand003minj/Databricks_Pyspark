{
 "cells": [
  {
   "cell_type": "code",
   "execution_count": 0,
   "metadata": {
    "application/vnd.databricks.v1+cell": {
     "cellMetadata": {
      "byteLimit": 2048000,
      "rowLimit": 10000
     },
     "inputWidgets": {},
     "nuid": "3722f6bb-c036-460e-b16f-d46471f79aa4",
     "showTitle": false,
     "title": ""
    }
   },
   "outputs": [
    {
     "output_type": "stream",
     "name": "stdout",
     "output_type": "stream",
     "text": [
      "Learning Functions\nHey  Alex  Welcome to our Department in Organization - EXL\nYour joining location will be -  California\nYour Email ID is generated -  Alex@exl.com\nHey  Tom  Welcome to our Department in Organization - EXL\nYour joining location will be -  Texas\nYour Email ID is generated -  Tom@exl.com\nHey  Arun  Welcome to our Department in Organization - EXL\nYour joining location will be -  Mumbai\nYour Email ID is generated -  Arun@exl.com\nHey  Karam  Welcome to our Department in Organization - EXL\nYour joining location will be -  Ranchi\nYour Email ID is generated -  Karam@exl.com\nHey  Aman  Welcome to our Department in Organization - EXL\nYour joining location will be -  Chennai\nYour Email ID is generated -  Aman@exl.com\n"
     ]
    }
   ],
   "source": [
    "# Python Functions\n",
    "def my_function(): # Function Definition, we don't have nay parameters for this funciton\n",
    "    pass # this is an empty function\n",
    "\n",
    "my_function()\n",
    "\n",
    "def my_function_one():\n",
    "    print(\"Learning Functions\")\n",
    "\n",
    "my_function_one()\n",
    "\n",
    "def function_for_new_joiners(new_joinee_name,location_new_joinee): # Defining parameters in function definition\n",
    "    print(\"Hey \",new_joinee_name, \" Welcome to our Department in Organization - EXL\")\n",
    "    print(\"Your joining location will be - \", location_new_joinee)\n",
    "    print(\"Your Email ID is generated - \",new_joinee_name+\"@exl.com\")\n",
    "\n",
    "function_for_new_joiners(\"Alex\",\"California\") # we need to pass argument during function call\n",
    "function_for_new_joiners(\"Tom\",\"Texas\")\n",
    "function_for_new_joiners(\"Arun\",\"Mumbai\")\n",
    "function_for_new_joiners(\"Karam\",\"Ranchi\")\n",
    "function_for_new_joiners(\"Aman\",\"Chennai\")"
   ]
  },
  {
   "cell_type": "code",
   "execution_count": 0,
   "metadata": {
    "application/vnd.databricks.v1+cell": {
     "cellMetadata": {
      "byteLimit": 2048000,
      "rowLimit": 10000
     },
     "inputWidgets": {},
     "nuid": "89f32776-ded6-4cc7-88b4-5c65e5751bbb",
     "showTitle": false,
     "title": ""
    }
   },
   "outputs": [
    {
     "output_type": "stream",
     "name": "stdout",
     "output_type": "stream",
     "text": [
      "('One', 'Two', 39847595, '93408ufkjf', 123456)\n()\n{'laptop_brand': 'Dell', 'processor': 'Intel i7', 'price': 80000, 'seller': 'Amazon pvt ltd'}\n"
     ]
    }
   ],
   "source": [
    "# Python Functions - With Variable list of arguments\n",
    "def function_with_mul_args(*args):\n",
    "    print(args)\n",
    "\n",
    "function_with_mul_args(\"One\",\"Two\",39847595,\"93408ufkjf\",123456)\n",
    "function_with_mul_args()\n",
    "\n",
    "# with variable list of keyword arguments (**kwargs)\n",
    "\n",
    "def function_with_mul_kwargs(**kwargs):\n",
    "    print(kwargs)\n",
    "\n",
    "function_with_mul_kwargs(laptop_brand = \"Dell\",processor = \"Intel i7\", price = 80000, seller = \"Amazon pvt ltd\")\n"
   ]
  },
  {
   "cell_type": "code",
   "execution_count": 0,
   "metadata": {
    "application/vnd.databricks.v1+cell": {
     "cellMetadata": {
      "byteLimit": 2048000,
      "rowLimit": 10000
     },
     "inputWidgets": {},
     "nuid": "37bed24d-d8f1-42ea-8f6e-67e23627afc4",
     "showTitle": false,
     "title": ""
    }
   },
   "outputs": [
    {
     "output_type": "stream",
     "name": "stdout",
     "output_type": "stream",
     "text": [
      "Logic Executed successfully\n\n    The print() function prints the specified message to the screen,\n    or other standard output device\n    The items are each converted to text form\n    \nOut[12]: 4"
     ]
    }
   ],
   "source": [
    "# Doc String\n",
    "\n",
    "def custom_print_function_info():\n",
    "    \"\"\"\n",
    "    The print() function prints the specified message to the screen,\n",
    "    or other standard output device\n",
    "    The items are each converted to text form\n",
    "    \"\"\"\n",
    "    print(\"Logic Executed successfully\")\n",
    "\n",
    "custom_print_function_info()\n",
    "\n",
    "print(custom_print_function_info.__doc__)\n",
    "\n",
    "# Python Lambda Function - Its an anonymous function, Which we can create even without function name\n",
    "\n",
    "def mul_value_with_fix(x1):\n",
    "    return x1*5\n",
    "\n",
    "mul_value_with_fix(3)\n",
    "\n",
    "(lambda x2:x2*10)(2) # IIFE (Immediately invoked function expression)\n",
    "\n",
    "temp_lamb_function = lambda y:y*y\n",
    "temp_lamb_function(2)\n"
   ]
  },
  {
   "cell_type": "code",
   "execution_count": 0,
   "metadata": {
    "application/vnd.databricks.v1+cell": {
     "cellMetadata": {
      "byteLimit": 2048000,
      "rowLimit": 10000
     },
     "inputWidgets": {},
     "nuid": "4291759e-fb0b-4896-bd24-3cfe0441dc62",
     "showTitle": false,
     "title": ""
    }
   },
   "outputs": [
    {
     "output_type": "stream",
     "name": "stdout",
     "output_type": "stream",
     "text": [
      "10\n200\n100\n"
     ]
    }
   ],
   "source": [
    "def function_with_local_scope():\n",
    "    q  = 10 # Local scope variable\n",
    "    print(10)\n",
    "\n",
    "function_with_local_scope()\n",
    "# print(q) # NameError: name 'q' is not defined\n",
    "\n",
    "f = 100\n",
    "def function_with_local_scope_sonsume_global():\n",
    "    f=200\n",
    "    print(f)\n",
    "\n",
    "function_with_local_scope_sonsume_global()\n",
    "print(f)"
   ]
  },
  {
   "cell_type": "code",
   "execution_count": 0,
   "metadata": {
    "application/vnd.databricks.v1+cell": {
     "cellMetadata": {
      "byteLimit": 2048000,
      "rowLimit": 10000
     },
     "inputWidgets": {},
     "nuid": "59a2a7df-bd60-45da-8ca9-0dc972dbf698",
     "showTitle": false,
     "title": ""
    }
   },
   "outputs": [
    {
     "output_type": "stream",
     "name": "stdout",
     "output_type": "stream",
     "text": [
      "1\nHey I am not called yet by the object, But still getting printed due to object creation from the class\n1\nMaxy\n5\nMale\n"
     ]
    }
   ],
   "source": [
    "class dog:\n",
    "    def __init__(self):\n",
    "        self.name_attr = 1\n",
    "        self.age_attr = 2\n",
    "        self.gender_attr = 3\n",
    "\n",
    "dog_obj_1 = dog()\n",
    "print(dog_obj_1.name_attr)# Classes and Objects - These are fundamental concepts fo Object Oriented Programming\n",
    "\n",
    "# Class - It is a blue print or a template for creating objects. Using class we can create multiple objects.\n",
    "\n",
    "# Class is a placeholder for Fucntions(Methods) and Variables(Attributes)\n",
    "\n",
    "# objects(Instances)\n",
    "\n",
    "# Below we are creating an empty class and creating an object out of it.\n",
    "class test_one:\n",
    "    pass\n",
    "\n",
    "object1 = test_one()\n",
    "\n",
    "class test_two:\n",
    "    def __init__(self): # This init method is a special method, Also called as constructor\n",
    "        pass\n",
    "\n",
    "object2 = test_two()\n",
    "\n",
    "class test_three:\n",
    "    def __init__(self): # This init method is a special method, Also called as constructor\n",
    "        print(\"Hey I am not called yet by the object, But still getting printed due to object creation from the class\")\n",
    "\n",
    "object3 = test_three() # When ever you create an object for a particular class, constructor is executed.\n",
    "\n",
    "class dog:\n",
    "    def __init__(self):\n",
    "        self.name_attr = 1\n",
    "        self.age_attr = 2\n",
    "        self.gender_attr = 3\n",
    "\n",
    "dog_obj_1 = dog()\n",
    "print(dog_obj_1.name_attr)\n",
    "\n",
    "class dog_two:\n",
    "    def __init__(self,name_param,age_param,gender_param):\n",
    "        self.name_attr = name_param\n",
    "        self.age_attr = age_param\n",
    "        self.gender_attr = gender_param\n",
    "\n",
    "dog_obj_maxy = dog_two(\"Maxy\",5,\"Male\")\n",
    "print(dog_obj_maxy.name_attr)\n",
    "print(dog_obj_maxy.age_attr)\n",
    "print(dog_obj_maxy.gender_attr)\n"
   ]
  }
 ],
 "metadata": {
  "application/vnd.databricks.v1+notebook": {
   "dashboards": [],
   "language": "python",
   "notebookMetadata": {
    "pythonIndentUnit": 4
   },
   "notebookName": "Exl_Python_Fundamentals_23rd_Feb",
   "widgets": {}
  }
 },
 "nbformat": 4,
 "nbformat_minor": 0
}
